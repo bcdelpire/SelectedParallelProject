{
 "cells": [
  {
   "cell_type": "code",
   "execution_count": 1,
   "id": "29ca51e3-49be-4a1b-b5d8-57f42aaabb27",
   "metadata": {},
   "outputs": [],
   "source": [
    "import findspark\n",
    "findspark.init()\n",
    "import pyspark\n",
    "from pyspark.sql import SparkSession\n",
    "from pyspark.ml.feature import VectorAssembler\n",
    "from pyspark.ml.classification import LogisticRegression, DecisionTreeClassifier, RandomForestClassifier, \\\n",
    "GBTClassifier, MultilayerPerceptronClassifier, LinearSVC, OneVsRest, NaiveBayes, FMClassifier\n",
    "from pyspark.ml.evaluation import MulticlassClassificationEvaluator\n",
    "from pyspark.ml.feature import MinMaxScaler"
   ]
  },
  {
   "cell_type": "code",
   "execution_count": 2,
   "id": "d911c402-741b-49a4-8e95-53185769fa6d",
   "metadata": {},
   "outputs": [],
   "source": [
    "spark = SparkSession.builder.appName('SparkByExamples.com').getOrCreate()"
   ]
  },
  {
   "cell_type": "code",
   "execution_count": 3,
   "id": "cd445ffc-825d-417d-9cdf-0e16b110e1d7",
   "metadata": {},
   "outputs": [
    {
     "name": "stdout",
     "output_type": "stream",
     "text": [
      "+--------------------+-----+\n",
      "|            features|label|\n",
      "+--------------------+-----+\n",
      "|[38.2528,-12.7831...|    0|\n",
      "|[39.827736,-8.731...|    0|\n",
      "|[32.10166,13.4068...|    0|\n",
      "|[32.34024,-12.503...|    0|\n",
      "|[37.411884,-18.80...|    0|\n",
      "|[31.38527,1.65564...|    0|\n",
      "|[39.42829,-10.564...|    0|\n",
      "|[28.69016,-32.621...|    0|\n",
      "|[37.675114,-5.514...|    0|\n",
      "|[38.25259,-12.451...|    0|\n",
      "|[31.108402,6.9113...|    0|\n",
      "|[31.290989,18.632...|    0|\n",
      "|[33.466557,15.921...|    0|\n",
      "|[34.797447,-16.39...|    0|\n",
      "|[30.72191,0.63299...|    0|\n",
      "|[31.816153,-22.34...|    0|\n",
      "|[31.015968,-23.15...|    0|\n",
      "|[39.90562,-1.3906...|    0|\n",
      "|[31.377953,-13.10...|    0|\n",
      "|[41.82224,5.30159...|    0|\n",
      "+--------------------+-----+\n",
      "only showing top 20 rows\n",
      "\n",
      "Wall time: 9.09 s\n"
     ]
    }
   ],
   "source": [
    "%%time\n",
    "\n",
    "df = spark.read.csv(\"out.csv\", header=True, inferSchema=True)\n",
    "Assembler = VectorAssembler(inputCols=['PC%d'%(i) for i in range (1,1001)], outputCol=\"features\")\n",
    "df_features = Assembler.transform(df)\n",
    "df = df_features.select(\"features\", \"label\")\n",
    "df.show()"
   ]
  },
  {
   "cell_type": "code",
   "execution_count": 4,
   "id": "4d6ffbc5-8834-4edb-8466-2812654f8452",
   "metadata": {},
   "outputs": [
    {
     "name": "stdout",
     "output_type": "stream",
     "text": [
      "Coefficients: (1000,[],[])\n",
      "Intercept: -0.00897216863315598\n",
      "Multinomial coefficients: 2 X 1000 CSRMatrix\n",
      "\n",
      "Multinomial intercepts: [0.004485362866238553,-0.004485362866238553]\n",
      "objectiveHistory:\n",
      "0.6931371181849493\n",
      "+---+---+\n",
      "|FPR|TPR|\n",
      "+---+---+\n",
      "|0.0|0.0|\n",
      "|1.0|1.0|\n",
      "|1.0|1.0|\n",
      "+---+---+\n",
      "\n",
      "areaUnderROC: 0.5\n",
      "Wall time: 14.4 s\n"
     ]
    },
    {
     "data": {
      "text/plain": [
       "LogisticRegression_6857a93f712e"
      ]
     },
     "execution_count": 4,
     "metadata": {},
     "output_type": "execute_result"
    }
   ],
   "source": [
    "%%time\n",
    "\n",
    "lr = LogisticRegression(maxIter=10, regParam=0.3, elasticNetParam=0.8)\n",
    "(train, test) = df.randomSplit([0.8, 0.2])\n",
    "\n",
    "# Fit the model\n",
    "lrModel = lr.fit(train)\n",
    "\n",
    "# Print the coefficients and intercept for logistic regression\n",
    "print(\"Coefficients: \" + str(lrModel.coefficients))\n",
    "print(\"Intercept: \" + str(lrModel.intercept))\n",
    "\n",
    "# We can also use the multinomial family for binary classification\n",
    "mlr = LogisticRegression(maxIter=10, regParam=0.3, elasticNetParam=0.8, family=\"multinomial\")\n",
    "\n",
    "# Fit the model\n",
    "mlrModel = mlr.fit(train)\n",
    "\n",
    "# Print the coefficients and intercepts for logistic regression with multinomial family\n",
    "print(\"Multinomial coefficients: \" + str(mlrModel.coefficientMatrix))\n",
    "print(\"Multinomial intercepts: \" + str(mlrModel.interceptVector))\n",
    "\n",
    "# Extract the summary from the returned LogisticRegressionModel instance trained\n",
    "# in the earlier example\n",
    "trainingSummary = lrModel.summary\n",
    "\n",
    "# Obtain the objective per iteration\n",
    "objectiveHistory = trainingSummary.objectiveHistory\n",
    "print(\"objectiveHistory:\")\n",
    "for objective in objectiveHistory:\n",
    "    print(objective)\n",
    "\n",
    "# Obtain the receiver-operating characteristic as a dataframe and areaUnderROC.\n",
    "trainingSummary.roc.show()\n",
    "print(\"areaUnderROC: \" + str(trainingSummary.areaUnderROC))\n",
    "\n",
    "# Set the model threshold to maximize F-Measure\n",
    "fMeasure = trainingSummary.fMeasureByThreshold\n",
    "maxFMeasure = fMeasure.groupBy().max('F-Measure').select('max(F-Measure)').head()\n",
    "bestThreshold = fMeasure.where(fMeasure['F-Measure'] == maxFMeasure['max(F-Measure)']) \\\n",
    "    .select('threshold').head()['threshold']\n",
    "lr.setThreshold(bestThreshold)"
   ]
  },
  {
   "cell_type": "code",
   "execution_count": 15,
   "id": "46f634ae-7d0d-41c1-9a40-9dcd8e09038e",
   "metadata": {},
   "outputs": [
    {
     "name": "stdout",
     "output_type": "stream",
     "text": [
      "Test set accuracy = 0.6995305164319249\n",
      "Test Error = 0.300469 \n",
      "Test set accuracy = 0.6947852760736196\n",
      "Test Error = 0.305215 \n",
      "Test set accuracy = 0.6770428015564203\n",
      "Test Error = 0.322957 \n",
      "Test set accuracy = 0.6791730474732006\n",
      "Test Error = 0.320827 \n",
      "Test set accuracy = 0.7020785219399538\n",
      "Test Error = 0.297921 \n",
      "Average accuracy = 0.6905220326950239\n",
      "Wall time: 45.4 s\n"
     ]
    }
   ],
   "source": [
    "%%time\n",
    "\n",
    "accuracies = []\n",
    "for i in range(5):\n",
    "    # Train a DecisionTree model.\n",
    "    dt = DecisionTreeClassifier(labelCol=\"label\", featuresCol=\"features\")\n",
    "    (train, test) = df.randomSplit([0.8, 0.2])\n",
    "\n",
    "    # Train model.  This also runs the indexers.\n",
    "    model = dt.fit(train)\n",
    "    \n",
    "    # Make predictions.\n",
    "    predictions = model.transform(test)\n",
    "\n",
    "    # Select example rows to display.\n",
    "    # predictions.select(\"prediction\", \"label\", \"features\").show(5)\n",
    "\n",
    "    # Select (prediction, true label) and compute test error\n",
    "    evaluator = MulticlassClassificationEvaluator(\n",
    "        labelCol=\"label\", predictionCol=\"prediction\", metricName=\"accuracy\")\n",
    "    accuracy = evaluator.evaluate(predictions)\n",
    "    print(\"Test set accuracy = \" + str(accuracy))\n",
    "    print(\"Test Error = %g \" % (1.0 - accuracy))\n",
    "    accuracies.append(accuracy)\n",
    "    \n",
    "print(\"Average accuracy = \" + str(sum(accuracies)/5))"
   ]
  },
  {
   "cell_type": "code",
   "execution_count": 6,
   "id": "db89ca27-2ab4-48a6-9ccf-01321a0380d7",
   "metadata": {},
   "outputs": [
    {
     "name": "stdout",
     "output_type": "stream",
     "text": [
      "Test set accuracy = 0.6540832049306625\n",
      "Test Error = 0.345917\n",
      "Test set accuracy = 0.6837136113296617\n",
      "Test Error = 0.316286\n",
      "Test set accuracy = 0.6933333333333334\n",
      "Test Error = 0.306667\n",
      "Test set accuracy = 0.6561051004636785\n",
      "Test Error = 0.343895\n",
      "Test set accuracy = 0.6909227306826706\n",
      "Test Error = 0.309077\n",
      "Average accuracy = 0.6756315961480013\n",
      "Wall time: 48 s\n"
     ]
    }
   ],
   "source": [
    "%%time\n",
    "\n",
    "accuracies = []\n",
    "for i in range(5):\n",
    "    # Train a RandomForest model.\n",
    "    rf = RandomForestClassifier(labelCol=\"label\", featuresCol=\"features\", numTrees=10)\n",
    "    (train, test) = df.randomSplit([0.8, 0.2])\n",
    "\n",
    "    # Train model.  This also runs the indexers.\n",
    "    model = rf.fit(train)\n",
    "\n",
    "    # Make predictions.\n",
    "    predictions = model.transform(test)\n",
    "\n",
    "    # Select example rows to display.\n",
    "    # predictions.select(\"prediction\", \"label\", \"features\").show(5)\n",
    "\n",
    "    # Select (prediction, true label) and compute test error\n",
    "    evaluator = MulticlassClassificationEvaluator(\n",
    "        labelCol=\"label\", predictionCol=\"prediction\", metricName=\"accuracy\")\n",
    "    accuracy = evaluator.evaluate(predictions)\n",
    "    print(\"Test set accuracy = \" + str(accuracy))\n",
    "    print(\"Test Error = %g\" % (1.0 - accuracy))\n",
    "    accuracies.append(accuracy)\n",
    "    \n",
    "print(\"Average accuracy = \" + str(sum(accuracies)/5))"
   ]
  },
  {
   "cell_type": "code",
   "execution_count": 7,
   "id": "67e1a3a1-f86f-47fe-930b-31f95644adec",
   "metadata": {},
   "outputs": [
    {
     "name": "stdout",
     "output_type": "stream",
     "text": [
      "Test set accuracy = 0.7754777070063694\n",
      "Test Error = 0.224522\n",
      "Test set accuracy = 0.7321848081440877\n",
      "Test Error = 0.267815\n",
      "Test set accuracy = 0.7496159754224271\n",
      "Test Error = 0.250384\n",
      "Test set accuracy = 0.6864274570982839\n",
      "Test Error = 0.313573\n",
      "Test set accuracy = 0.7448818897637796\n",
      "Test Error = 0.255118\n",
      "Average accuracy = 0.7377175674869896\n",
      "Wall time: 2min\n"
     ]
    }
   ],
   "source": [
    "%%time\n",
    "\n",
    "accuracies = []\n",
    "for i in range(5):\n",
    "    # Train a GBT model.\n",
    "    gbt = GBTClassifier(labelCol=\"label\", featuresCol=\"features\", maxIter=10)\n",
    "    (train, test) = df.randomSplit([0.8, 0.2])\n",
    "\n",
    "    # Train model.  This also runs the indexers.\n",
    "    model = gbt.fit(train)\n",
    "\n",
    "    # Make predictions.\n",
    "    predictions = model.transform(test)\n",
    "\n",
    "    # Select example rows to display.\n",
    "    # predictions.select(\"prediction\", \"label\", \"features\").show(5)\n",
    "\n",
    "    # Select (prediction, true label) and compute test error\n",
    "    evaluator = MulticlassClassificationEvaluator(\n",
    "        labelCol=\"label\", predictionCol=\"prediction\", metricName=\"accuracy\")\n",
    "    accuracy = evaluator.evaluate(predictions)\n",
    "    print(\"Test set accuracy = \" + str(accuracy))\n",
    "    print(\"Test Error = %g\" % (1.0 - accuracy))\n",
    "    accuracies.append(accuracy)\n",
    "    \n",
    "print(\"Average accuracy = \" + str(sum(accuracies)/5))"
   ]
  },
  {
   "cell_type": "code",
   "execution_count": 8,
   "id": "77395c0d-089c-4793-943a-fe37a5c9838b",
   "metadata": {},
   "outputs": [
    {
     "name": "stdout",
     "output_type": "stream",
     "text": [
      "Test set accuracy = 0.9805194805194806\n",
      "Test Error = 0.0194805 \n",
      "Test set accuracy = 0.9798761609907121\n",
      "Test Error = 0.0201238 \n",
      "Test set accuracy = 0.9829325058184639\n",
      "Test Error = 0.0170675 \n",
      "Test set accuracy = 0.9796747967479674\n",
      "Test Error = 0.0203252 \n",
      "Test set accuracy = 0.9849510910458992\n",
      "Test Error = 0.0150489 \n",
      "Average accuracy = 0.9815908070245045\n",
      "Wall time: 8min 43s\n"
     ]
    }
   ],
   "source": [
    "%%time\n",
    "\n",
    "accuracies = []\n",
    "for i in range(5):\n",
    "    # specify layers for the neural network:\n",
    "    # input layer of size 1000 (features), two intermediate of size 512 and 256\n",
    "    # and output of size 2 (classes)\n",
    "    layers = [1000, 512, 256, 2]\n",
    "\n",
    "    # create the trainer and set its parameters\n",
    "    trainer = MultilayerPerceptronClassifier(maxIter=100, layers=layers, blockSize=128, seed=1234)\n",
    "    (train, test) = df.randomSplit([0.8, 0.2])\n",
    "\n",
    "    # train the model\n",
    "    model = trainer.fit(train)\n",
    "\n",
    "    # compute accuracy on the test set\n",
    "    result = model.transform(test)\n",
    "    predictionAndLabels = result.select(\"prediction\", \"label\")\n",
    "    evaluator = MulticlassClassificationEvaluator(metricName=\"accuracy\")\n",
    "    accuracy = evaluator.evaluate(predictionAndLabels)\n",
    "    print(\"Test set accuracy = \" + str(accuracy))\n",
    "    print(\"Test Error = %g \" % (1.0 - accuracy))\n",
    "    accuracies.append(accuracy)\n",
    "    \n",
    "print(\"Average accuracy = \" + str(sum(accuracies)/5))"
   ]
  },
  {
   "cell_type": "code",
   "execution_count": 9,
   "id": "38bed5ab-3603-4487-9168-9a6f47d37458",
   "metadata": {},
   "outputs": [
    {
     "name": "stdout",
     "output_type": "stream",
     "text": [
      "Test set accuracy = 0.920545746388443\n",
      "Test Error = 0.0794543 \n",
      "Test set accuracy = 0.9273008507347255\n",
      "Test Error = 0.0726991 \n",
      "Test set accuracy = 0.9144215530903328\n",
      "Test Error = 0.0855784 \n",
      "Test set accuracy = 0.92421875\n",
      "Test Error = 0.0757813 \n",
      "Test set accuracy = 0.9064\n",
      "Test Error = 0.0936 \n",
      "Average accuracy = 0.9185773800427002\n",
      "Wall time: 37.6 s\n"
     ]
    }
   ],
   "source": [
    "%%time\n",
    "\n",
    "accuracies = []\n",
    "for i in range(5):\n",
    "    lsvc = LinearSVC(maxIter=10, regParam=0.1)\n",
    "    (train, test) = df.randomSplit([0.8, 0.2])\n",
    "\n",
    "    # Fit the model\n",
    "    lsvcModel = lsvc.fit(train)\n",
    "\n",
    "    # Print the coefficients and intercept for linear SVC\n",
    "    #print(\"Coefficients: \" + str(lsvcModel.coefficients))\n",
    "    #print(\"Intercept: \" + str(lsvcModel.intercept))\n",
    "\n",
    "    # Make predictions.\n",
    "    predictions = lsvcModel.transform(test)\n",
    "\n",
    "    # Select example rows to display.\n",
    "    # predictions.select(\"prediction\", \"label\", \"features\").show(5)\n",
    "\n",
    "    # Select (prediction, true label) and compute test error\n",
    "    evaluator = MulticlassClassificationEvaluator(labelCol=\"label\", predictionCol=\"prediction\", metricName=\"accuracy\")\n",
    "    accuracy = evaluator.evaluate(predictions)\n",
    "    print(\"Test set accuracy = \" + str(accuracy))\n",
    "    print(\"Test Error = %g \" % (1.0 - accuracy))\n",
    "    accuracies.append(accuracy)\n",
    "    \n",
    "print(\"Average accuracy = \" + str(sum(accuracies)/5))"
   ]
  },
  {
   "cell_type": "code",
   "execution_count": 10,
   "id": "b0e05d39-c5fc-44eb-9377-30c21cf56611",
   "metadata": {},
   "outputs": [
    {
     "name": "stdout",
     "output_type": "stream",
     "text": [
      "Test set accuracy = 0.9335394126738794\n",
      "Test Error = 0.0664606\n",
      "Test set accuracy = 0.9385692068429238\n",
      "Test Error = 0.0614308\n",
      "Test set accuracy = 0.946034341782502\n",
      "Test Error = 0.0539657\n",
      "Test set accuracy = 0.9379418695993715\n",
      "Test Error = 0.0620581\n",
      "Test set accuracy = 0.9445745511319282\n",
      "Test Error = 0.0554254\n",
      "Average accuracy = 0.9401318764061208\n",
      "Wall time: 3min\n"
     ]
    }
   ],
   "source": [
    "%%time\n",
    "\n",
    "accuracies = []\n",
    "for i in range(5):\n",
    "    # instantiate the base classifier.\n",
    "    lr = LogisticRegression(maxIter=10, tol=1E-6, fitIntercept=True)\n",
    "    (train, test) = df.randomSplit([0.8, 0.2])\n",
    "\n",
    "    # instantiate the One Vs Rest Classifier.\n",
    "    ovr = OneVsRest(classifier=lr)\n",
    "\n",
    "    # train the multiclass model.\n",
    "    ovrModel = ovr.fit(train)\n",
    "\n",
    "    # score the model on test data.\n",
    "    predictions = ovrModel.transform(test)\n",
    "\n",
    "    # obtain evaluator.\n",
    "    evaluator = MulticlassClassificationEvaluator(metricName=\"accuracy\")\n",
    "\n",
    "    # compute the classification error on test data.\n",
    "    accuracy = evaluator.evaluate(predictions)\n",
    "    print(\"Test set accuracy = \" + str(accuracy))\n",
    "    print(\"Test Error = %g\" % (1.0 - accuracy))\n",
    "    accuracies.append(accuracy)\n",
    "    \n",
    "print(\"Average accuracy = \" + str(sum(accuracies)/5))"
   ]
  },
  {
   "cell_type": "code",
   "execution_count": 11,
   "id": "3a5b4060-ef17-4be8-a932-d443236e4cd5",
   "metadata": {},
   "outputs": [
    {
     "name": "stdout",
     "output_type": "stream",
     "text": [
      "Features scaled to range: [0.000000, 1.000000]\n",
      "+--------------------+--------------------+\n",
      "|            features|      scaledFeatures|\n",
      "+--------------------+--------------------+\n",
      "|[38.2528,-12.7831...|[0.87108461447592...|\n",
      "|[39.827736,-8.731...|[0.88864953527688...|\n",
      "|[32.10166,13.4068...|[0.80248227956478...|\n",
      "|[32.34024,-12.503...|[0.80514311073804...|\n",
      "|[37.411884,-18.80...|[0.86170606008370...|\n",
      "|[31.38527,1.65564...|[0.79449253673548...|\n",
      "|[39.42829,-10.564...|[0.88419460037523...|\n",
      "|[28.69016,-32.621...|[0.76443455742720...|\n",
      "|[37.675114,-5.514...|[0.86464180737911...|\n",
      "|[38.25259,-12.451...|[0.87108227239131...|\n",
      "|[31.108402,6.9113...|[0.79140468777380...|\n",
      "|[31.290989,18.632...|[0.79344104112040...|\n",
      "|[33.466557,15.921...|[0.81770468079661...|\n",
      "|[34.797447,-16.39...|[0.83254780930773...|\n",
      "|[30.72191,0.63299...|[0.78709422603427...|\n",
      "|[31.816153,-22.34...|[0.79929808170333...|\n",
      "|[31.015968,-23.15...|[0.79037379135050...|\n",
      "|[39.90562,-1.3906...|[0.88951815869501...|\n",
      "|[31.377953,-13.10...|[0.79441093181598...|\n",
      "|[41.82224,5.30159...|[0.91089380729631...|\n",
      "+--------------------+--------------------+\n",
      "only showing top 20 rows\n",
      "\n",
      "Wall time: 3.37 s\n"
     ]
    }
   ],
   "source": [
    "%%time\n",
    "\n",
    "scaler = MinMaxScaler(inputCol=\"features\", outputCol=\"scaledFeatures\")\n",
    "df_new = df\n",
    "\n",
    "# Compute summary statistics and generate MinMaxScalerModel\n",
    "scalerModel = scaler.fit(df_new)\n",
    "\n",
    "# rescale each feature to range [min, max].\n",
    "scaledData = scalerModel.transform(df_new)\n",
    "print(\"Features scaled to range: [%f, %f]\" % (scaler.getMin(), scaler.getMax()))\n",
    "scaledData.select(\"features\", \"scaledFeatures\").show()"
   ]
  },
  {
   "cell_type": "code",
   "execution_count": 12,
   "id": "6602b1c6-357c-4591-861c-a89b7fcb29b6",
   "metadata": {},
   "outputs": [
    {
     "name": "stdout",
     "output_type": "stream",
     "text": [
      "Test set accuracy = 0.8581847649918962\n",
      "Test Error = 0.141815\n",
      "Test set accuracy = 0.8829536527886881\n",
      "Test Error = 0.117046\n",
      "Test set accuracy = 0.8554021121039805\n",
      "Test Error = 0.144598\n",
      "Test set accuracy = 0.8629600626468285\n",
      "Test Error = 0.13704\n",
      "Test set accuracy = 0.8693227091633466\n",
      "Test Error = 0.130677\n",
      "Average accuracy = 0.8657646603389481\n",
      "Wall time: 17.2 s\n"
     ]
    }
   ],
   "source": [
    "%%time\n",
    "\n",
    "accuracies = []\n",
    "for i in range(5):\n",
    "    # create the trainer and set its parameters\n",
    "    nb = NaiveBayes(smoothing=1.0, modelType=\"multinomial\", labelCol=\"label\", featuresCol=\"scaledFeatures\")\n",
    "\n",
    "    (train_nb, test_nb) = scaledData.randomSplit([0.8, 0.2])\n",
    "\n",
    "    # train the model\n",
    "    model = nb.fit(train_nb)\n",
    "\n",
    "    # select example rows to display.\n",
    "    predictions = model.transform(test_nb)\n",
    "    #predictions.show()\n",
    "\n",
    "    # compute accuracy on the test set\n",
    "    evaluator = MulticlassClassificationEvaluator(labelCol=\"label\", predictionCol=\"prediction\",\n",
    "                                                  metricName=\"accuracy\")\n",
    "    accuracy = evaluator.evaluate(predictions)\n",
    "    print(\"Test set accuracy = \" + str(accuracy))\n",
    "    print(\"Test Error = %g\" % (1.0 - accuracy))\n",
    "    accuracies.append(accuracy)\n",
    "    \n",
    "print(\"Average accuracy = \" + str(sum(accuracies)/5))"
   ]
  },
  {
   "cell_type": "code",
   "execution_count": 13,
   "id": "cccaffc7-96ae-442d-bb14-c152fa9f8db5",
   "metadata": {},
   "outputs": [
    {
     "name": "stdout",
     "output_type": "stream",
     "text": [
      "Test set accuracy = 0.990861\n",
      "Test Error = 0.00913938\n",
      "Test set accuracy = 0.992095\n",
      "Test Error = 0.00790514\n",
      "Test set accuracy = 0.987997\n",
      "Test Error = 0.012003\n",
      "Test set accuracy = 0.992163\n",
      "Test Error = 0.00783699\n",
      "Test set accuracy = 0.987683\n",
      "Test Error = 0.0123172\n",
      "Average accuracy = 0.9901596655573386\n",
      "Wall time: 11min 11s\n"
     ]
    }
   ],
   "source": [
    "%%time\n",
    "\n",
    "accuracies = []\n",
    "for i in range(5):\n",
    "    # Train a FM model.\n",
    "    fm = FMClassifier(labelCol=\"label\", featuresCol=\"features\", stepSize=0.001)\n",
    "    (train, test) = df.randomSplit([0.8, 0.2])\n",
    "\n",
    "    # Train model.\n",
    "    model = fm.fit(train)\n",
    "\n",
    "    # Make predictions.\n",
    "    predictions = model.transform(test)\n",
    "\n",
    "    # Select example rows to display.\n",
    "    #predictions.select(\"prediction\", \"label\", \"features\").show(5)\n",
    "\n",
    "    # Select (prediction, true label) and compute test accuracy\n",
    "    evaluator = MulticlassClassificationEvaluator(\n",
    "        labelCol=\"label\", predictionCol=\"prediction\", metricName=\"accuracy\")\n",
    "    accuracy = evaluator.evaluate(predictions)\n",
    "    print(\"Test set accuracy = %g\" % accuracy)\n",
    "    print(\"Test Error = %g\" % (1.0 - accuracy))\n",
    "    accuracies.append(accuracy)\n",
    "    \n",
    "print(\"Average accuracy = \" + str(sum(accuracies)/5))"
   ]
  },
  {
   "cell_type": "code",
   "execution_count": 20,
   "id": "9b239dde-fa64-49a8-9a09-a3790437972b",
   "metadata": {},
   "outputs": [],
   "source": [
    "model = [\"Decision Tree\", \"Random Forest\", \"Gradient Boosted Tree\", \"Multilayer Perceptron\", \"Linear SVM\", \"One-vs-Rest\", \"Naive Bayes\", \"FM Classifier\"]\n",
    "accuracies = [69.05, 67.56, 73.77, 98.16, 91.86, 94.01, 86.58, 99.02]\n",
    "times = [45.4, 48, 2*60, (2*8)+43, 37.6, 3*60, 17.2+3.37, (11*60)+11]"
   ]
  },
  {
   "cell_type": "code",
   "execution_count": 30,
   "id": "9f69080c-aeaa-4ebe-88c8-ab77221c9cc8",
   "metadata": {},
   "outputs": [
    {
     "data": {
      "image/png": "[encoded data removed]",
      "text/plain": [
       "<Figure size 640x480 with 1 Axes>"
      ]
     },
     "metadata": {},
     "output_type": "display_data"
    }
   ],
   "source": [
    "import matplotlib.pyplot as plt\n",
    "\n",
    "x_axis = model\n",
    "y_axis = accuracies\n",
    "\n",
    "plt.bar(x_axis, y_axis)\n",
    "plt.title('Average Accuracies')\n",
    "plt.xlabel('Model')\n",
    "plt.ylabel('Accuracy (%)')\n",
    "plt.xticks(size=8)\n",
    "plt.xticks(rotation=45, ha='center')\n",
    "plt.show()"
   ]
  },
  {
   "cell_type": "code",
   "execution_count": 32,
   "id": "2b82b378-afcb-4872-b21e-dd43e522d630",
   "metadata": {},
   "outputs": [
    {
     "data": {
      "image/png": "[encoded data removed]",
      "text/plain": [
       "<Figure size 640x480 with 1 Axes>"
      ]
     },
     "metadata": {},
     "output_type": "display_data"
    }
   ],
   "source": [
    "import matplotlib.pyplot as plt\n",
    "\n",
    "x_axis = model\n",
    "y_axis = times\n",
    "\n",
    "plt.bar(x_axis, y_axis)\n",
    "plt.title('Time')\n",
    "plt.xlabel('Model')\n",
    "plt.ylabel('Time (s)')\n",
    "plt.xticks(size=8)\n",
    "plt.xticks(rotation=45, ha='center')\n",
    "plt.show()"
   ]
  },
  {
   "cell_type": "code",
   "execution_count": null,
   "id": "dfcc2bf2-29c5-4e3d-a09f-bfd3860bca0b",
   "metadata": {},
   "outputs": [],
   "source": []
  }
 ],
 "metadata": {
  "kernelspec": {
   "display_name": "Python 3 (ipykernel)",
   "language": "python",
   "name": "python3"
  },
  "language_info": {
   "codemirror_mode": {
    "name": "ipython",
    "version": 3
   },
   "file_extension": ".py",
   "mimetype": "text/x-python",
   "name": "python",
   "nbconvert_exporter": "python",
   "pygments_lexer": "ipython3",
   "version": "3.9.13"
  }
 },
 "nbformat": 4,
 "nbformat_minor": 5
}
