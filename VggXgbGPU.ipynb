{
  "nbformat": 4,
  "nbformat_minor": 0,
  "metadata": {
    "colab": {
      "provenance": []
    },
    "kernelspec": {
      "name": "python3",
      "display_name": "Python 3"
    },
    "language_info": {
      "name": "python"
    },
    "gpuClass": "standard",
    "accelerator": "GPU"
  },
  "cells": [
    {
      "cell_type": "code",
      "execution_count": 1,
      "metadata": {
        "colab": {
          "base_uri": "https://localhost:8080/"
        },
        "id": "6SETHxJxqvHb",
        "outputId": "7ee9589c-6218-42e2-8237-c4e909cfd0a1"
      },
      "outputs": [
        {
          "output_type": "stream",
          "name": "stdout",
          "text": [
            "Mounted at /content/drive\n"
          ]
        }
      ],
      "source": [
        "from google.colab import drive\n",
        "drive.mount('/content/drive')"
      ]
    },
    {
      "cell_type": "code",
      "source": [
        "import tensorflow.keras as keras\n",
        "import numpy as np\n",
        "from IPython.display import display\n",
        "import matplotlib.pyplot as plt\n",
        "%matplotlib inline\n",
        "from sklearn.model_selection import KFold\n",
        "from sklearn.metrics import accuracy_score\n",
        "from sklearn.metrics import hamming_loss\n",
        "import tensorflow as tf\n",
        "from tensorflow.keras.preprocessing import image\n",
        "from tensorflow.keras.applications.xception import preprocess_input, decode_predictions\n",
        "import xgboost as xgb"
      ],
      "metadata": {
        "id": "OHag6v1assTI"
      },
      "execution_count": 2,
      "outputs": []
    },
    {
      "cell_type": "code",
      "source": [
        "import csv"
      ],
      "metadata": {
        "id": "avodwtrZtz-0"
      },
      "execution_count": 3,
      "outputs": []
    },
    {
      "cell_type": "code",
      "source": [
        "def get_data(filename):\n",
        "  with open(filename, \"r\") as training_file:\n",
        "    csv_reader = csv.reader(training_file)\n",
        "    next(csv_reader, None)  # skip the headers\n",
        "    X = []\n",
        "    Y = []\n",
        "    for row in csv_reader:\n",
        "        X.append(np.array(row[:-1]))\n",
        "        Y.append(row[-1])\n",
        "\n",
        "  X = np.array(X).astype(np.float32)\n",
        "  Y = np.array(Y).astype(np.float32)\n",
        "  return X, Y"
      ],
      "metadata": {
        "id": "hyAX_tR_sFNe"
      },
      "execution_count": 4,
      "outputs": []
    },
    {
      "cell_type": "code",
      "source": [
        "X_features, Y = get_data('/content/drive/MyDrive/Colab Notebooks/vgg.csv')"
      ],
      "metadata": {
        "id": "X3ZIgpVTs6vO"
      },
      "execution_count": 5,
      "outputs": []
    },
    {
      "cell_type": "code",
      "source": [
        "X_features.shape"
      ],
      "metadata": {
        "colab": {
          "base_uri": "https://localhost:8080/"
        },
        "id": "EJk4MyF9uPT-",
        "outputId": "c8533a2a-2c16-4a2f-b8f3-267246fa5a3a"
      },
      "execution_count": 6,
      "outputs": [
        {
          "output_type": "execute_result",
          "data": {
            "text/plain": [
              "(6400, 15360)"
            ]
          },
          "metadata": {},
          "execution_count": 6
        }
      ]
    },
    {
      "cell_type": "code",
      "source": [
        "Y[0]"
      ],
      "metadata": {
        "colab": {
          "base_uri": "https://localhost:8080/"
        },
        "id": "3LfavukfuU4t",
        "outputId": "61c21024-fbd9-4cc3-daeb-55e8dbeddf1e"
      },
      "execution_count": 7,
      "outputs": [
        {
          "output_type": "execute_result",
          "data": {
            "text/plain": [
              "0.0"
            ]
          },
          "metadata": {},
          "execution_count": 7
        }
      ]
    },
    {
      "cell_type": "code",
      "source": [
        "kfold = KFold(n_splits=5, shuffle=True)"
      ],
      "metadata": {
        "id": "yeevxr33OF-G"
      },
      "execution_count": 8,
      "outputs": []
    },
    {
      "cell_type": "code",
      "source": [
        "acc_per_fold = []\n",
        "loss_per_fold = []\n",
        "Y_preds = []\n",
        "Y_actuals = []"
      ],
      "metadata": {
        "id": "kEtDnofFOI3w"
      },
      "execution_count": 9,
      "outputs": []
    },
    {
      "cell_type": "code",
      "source": [
        "from sklearn import metrics"
      ],
      "metadata": {
        "id": "FwH_4YViuEaZ"
      },
      "execution_count": 10,
      "outputs": []
    },
    {
      "cell_type": "code",
      "source": [
        "%%time\n",
        "\n",
        "fold_no = 1\n",
        "num_classes = 2\n",
        "\n",
        "for train, test in kfold.split(X_features,Y):\n",
        "\n",
        "    model = xgb.XGBClassifier(tree_method='gpu_hist')\n",
        "        \n",
        "    print('------------------------------------------------------------------------')\n",
        "    print(f'Training for fold {fold_no} ...')\n",
        "    # Fit data to model\n",
        "    history = model.fit(X_features[train], Y[train], verbose=1)\n",
        "    \n",
        "    # Generate generalization metrics\n",
        "    #scores = model.evaluate(X_features[test], Y[test], verbose=0)\n",
        "    prediction = model.predict(X_features[test])\n",
        "    accuracy = metrics.accuracy_score(Y[test], prediction)\n",
        "    print(f'Score for fold {fold_no}: Accuracy of {accuracy}%')\n",
        "    acc_per_fold.append(accuracy * 100)\n",
        "    for x in Y[test]:\n",
        "        Y_actuals = np.append(Y_actuals, x)\n",
        "    for z in model.predict(X_features[test]):\n",
        "        Y_preds = np.append(Y_preds, np.argmax(z))\n",
        "    # Increase fold number\n",
        "    fold_no = fold_no + 1"
      ],
      "metadata": {
        "colab": {
          "base_uri": "https://localhost:8080/"
        },
        "id": "UYYWqdISOLC3",
        "outputId": "af0cbcdf-9f19-4389-ac8c-e41097863528"
      },
      "execution_count": 12,
      "outputs": [
        {
          "output_type": "stream",
          "name": "stdout",
          "text": [
            "------------------------------------------------------------------------\n",
            "Training for fold 1 ...\n",
            "Score for fold 1: Accuracy of 0.921875%\n",
            "------------------------------------------------------------------------\n",
            "Training for fold 2 ...\n",
            "Score for fold 2: Accuracy of 0.925%\n",
            "------------------------------------------------------------------------\n",
            "Training for fold 3 ...\n",
            "Score for fold 3: Accuracy of 0.915625%\n",
            "------------------------------------------------------------------------\n",
            "Training for fold 4 ...\n",
            "Score for fold 4: Accuracy of 0.92890625%\n",
            "------------------------------------------------------------------------\n",
            "Training for fold 5 ...\n",
            "Score for fold 5: Accuracy of 0.9265625%\n",
            "CPU times: user 2min 29s, sys: 4.04 s, total: 2min 33s\n",
            "Wall time: 2min\n"
          ]
        }
      ]
    },
    {
      "cell_type": "code",
      "source": [
        "print('------------------------------------------------------------------------')\n",
        "print('Score per fold')\n",
        "for i in range(0, 5):\n",
        "    print('------------------------------------------------------------------------')\n",
        "    print(f'> Fold {i+1} - Accuracy: {acc_per_fold[i]}%')\n",
        "print('------------------------------------------------------------------------')\n",
        "print('Average scores for all folds:')\n",
        "print(f'> Accuracy: {np.mean(acc_per_fold)} (+- {np.std(acc_per_fold)})')\n",
        "print('------------------------------------------------------------------------')"
      ],
      "metadata": {
        "colab": {
          "base_uri": "https://localhost:8080/"
        },
        "id": "mTylg1XPO8Ql",
        "outputId": "2c33b92d-3c47-4d2a-bb16-0130ee774102"
      },
      "execution_count": 14,
      "outputs": [
        {
          "output_type": "stream",
          "name": "stdout",
          "text": [
            "------------------------------------------------------------------------\n",
            "Score per fold\n",
            "------------------------------------------------------------------------\n",
            "> Fold 1 - Accuracy: 92.1875%\n",
            "------------------------------------------------------------------------\n",
            "> Fold 2 - Accuracy: 92.5%\n",
            "------------------------------------------------------------------------\n",
            "> Fold 3 - Accuracy: 91.5625%\n",
            "------------------------------------------------------------------------\n",
            "> Fold 4 - Accuracy: 92.890625%\n",
            "------------------------------------------------------------------------\n",
            "> Fold 5 - Accuracy: 92.65625%\n",
            "------------------------------------------------------------------------\n",
            "Average scores for all folds:\n",
            "> Accuracy: 92.359375 (+- 0.4592793267718459)\n",
            "------------------------------------------------------------------------\n"
          ]
        }
      ]
    }
  ]
}