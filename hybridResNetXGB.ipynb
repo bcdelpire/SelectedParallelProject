{
 "cells": [
  {
   "cell_type": "code",
   "execution_count": 1,
   "id": "3e2ec310-7548-4b58-b8e6-8802e2a60ed1",
   "metadata": {},
   "outputs": [],
   "source": [
    "import tensorflow.keras as keras\n",
    "import numpy as np\n",
    "from IPython.display import display\n",
    "import matplotlib.pyplot as plt\n",
    "%matplotlib inline\n",
    "from sklearn.model_selection import KFold\n",
    "from sklearn.metrics import accuracy_score\n",
    "from sklearn.metrics import hamming_loss\n",
    "import tensorflow as tf\n",
    "from tensorflow.keras.preprocessing import image\n",
    "from tensorflow.keras.applications.xception import preprocess_input, decode_predictions\n",
    "from sklearn.model_selection import train_test_split\n",
    "from sklearn.metrics import confusion_matrix\n",
    "import seaborn as sns\n",
    "import pandas as pd\n",
    "from tensorflow.keras.applications.resnet50 import ResNet50\n",
    "import xgboost as xgb"
   ]
  },
  {
   "cell_type": "code",
   "execution_count": 2,
   "id": "83e83dc0-c05c-4833-8b93-6f929856862a",
   "metadata": {},
   "outputs": [],
   "source": [
    "def grab_image(img_path):\n",
    "    img = image.load_img(img_path, target_size=(208, 176))\n",
    "    x = image.img_to_array(img)\n",
    "    x = np.expand_dims(x, axis=0)\n",
    "    x = preprocess_input(x)\n",
    "    return x"
   ]
  },
  {
   "cell_type": "code",
   "execution_count": 3,
   "id": "fd2fe309-6518-49e3-9d4b-177c7ce00049",
   "metadata": {},
   "outputs": [],
   "source": [
    "negative_images = np.concatenate( [grab_image('AlzheimersDataset/Negative/neg(%d).jpg'%(i)) for i in range(1, 3201)])\n",
    "positive_images = np.concatenate( [grab_image('AlzheimersDataset/Positive/pos(%d).jpg'%(i)) for i in range(1, 3201)])"
   ]
  },
  {
   "cell_type": "code",
   "execution_count": 4,
   "id": "89ca22c2-f0bb-4778-ac67-2f99c48bf927",
   "metadata": {},
   "outputs": [],
   "source": [
    "negative_labels = np.zeros(3200, dtype=int)\n",
    "positive_labels = np.ones(3200, dtype=int)"
   ]
  },
  {
   "cell_type": "code",
   "execution_count": 5,
   "id": "d7e53def-6803-43e7-a0d6-495d85ff74d0",
   "metadata": {},
   "outputs": [],
   "source": [
    "X = np.concatenate([negative_images, positive_images])\n",
    "Y = np.concatenate([negative_labels, positive_labels])"
   ]
  },
  {
   "cell_type": "code",
   "execution_count": 6,
   "id": "b665d696-37a9-47ea-a768-c55aec06f042",
   "metadata": {},
   "outputs": [],
   "source": [
    "X_train, X_test, Y_train, Y_test = train_test_split(X, Y, test_size=0.2)"
   ]
  },
  {
   "cell_type": "code",
   "execution_count": 7,
   "id": "1c236ca9-cc03-43d6-9ad9-d0d79923e570",
   "metadata": {},
   "outputs": [
    {
     "name": "stdout",
     "output_type": "stream",
     "text": [
      "Downloading data from https://storage.googleapis.com/tensorflow/keras-applications/resnet/resnet50_weights_tf_dim_ordering_tf_kernels_notop.h5\n",
      "94765736/94765736 [==============================] - 6s 0us/step\n"
     ]
    }
   ],
   "source": [
    "#ResNet50\n",
    "resnet_model = ResNet50(weights = 'imagenet',  include_top = False, input_shape = (208, 176, 3)) "
   ]
  },
  {
   "cell_type": "code",
   "execution_count": 8,
   "id": "d28e6cc7-f1d8-4201-b5e8-fe3646ce5958",
   "metadata": {},
   "outputs": [],
   "source": [
    "# make all layers non-trainable\n",
    "for layer in resnet_model.layers : \n",
    "    layer.trainable = False"
   ]
  },
  {
   "cell_type": "code",
   "execution_count": 9,
   "id": "a4226508-12da-457c-b565-ae6093592cee",
   "metadata": {},
   "outputs": [
    {
     "name": "stdout",
     "output_type": "stream",
     "text": [
      "160/160 [==============================] - 326s 2s/step\n",
      "Wall time: 5min 29s\n"
     ]
    }
   ],
   "source": [
    "%%time\n",
    "\n",
    "feature_extractor = resnet_model.predict(X_train)"
   ]
  },
  {
   "cell_type": "code",
   "execution_count": 10,
   "id": "6588d5bb-4841-4b1c-96b2-7dde5b5ad023",
   "metadata": {},
   "outputs": [],
   "source": [
    "# reshape\n",
    "features = feature_extractor.reshape(feature_extractor.shape[0], -1)\n",
    "X_train_features = features"
   ]
  },
  {
   "cell_type": "code",
   "execution_count": 11,
   "id": "1d020b07-b87d-42cb-8472-54e4e2cbaa19",
   "metadata": {},
   "outputs": [
    {
     "name": "stdout",
     "output_type": "stream",
     "text": [
      "40/40 [==============================] - 78s 2s/step\n"
     ]
    }
   ],
   "source": [
    "# do same operation on test dataset\n",
    "feature_extractor_test = resnet_model.predict(X_test)\n",
    "features_test = feature_extractor_test.reshape(feature_extractor_test.shape[0], -1)\n",
    "X_test_features = features_test"
   ]
  },
  {
   "cell_type": "code",
   "execution_count": 12,
   "id": "d0801418-9590-43d5-bbd0-c02b7d36b6a4",
   "metadata": {},
   "outputs": [
    {
     "name": "stdout",
     "output_type": "stream",
     "text": [
      "Wall time: 12min 43s\n"
     ]
    }
   ],
   "source": [
    "%%time\n",
    "\n",
    "model = xgb.XGBClassifier()\n",
    "history = model.fit(X_train_features, Y_train, verbose=1)"
   ]
  },
  {
   "cell_type": "code",
   "execution_count": 13,
   "id": "134b1aa7-d6d4-410f-ab16-753cd2eae037",
   "metadata": {},
   "outputs": [],
   "source": [
    "prediction = model.predict(X_test_features)"
   ]
  },
  {
   "cell_type": "code",
   "execution_count": 14,
   "id": "37cd7a2f-486d-4eee-bc8a-dfa75c233912",
   "metadata": {},
   "outputs": [
    {
     "name": "stdout",
     "output_type": "stream",
     "text": [
      "Accuracy :  0.95\n"
     ]
    }
   ],
   "source": [
    "from sklearn import metrics\n",
    "print('Accuracy : ', metrics.accuracy_score(Y_test, prediction))"
   ]
  },
  {
   "cell_type": "code",
   "execution_count": 15,
   "id": "36445fb1-c06a-4e5c-bd50-04b6ed187f59",
   "metadata": {},
   "outputs": [
    {
     "data": {
      "image/png": "[encoded data removed]",
      "text/plain": [
       "<Figure size 500x400 with 2 Axes>"
      ]
     },
     "metadata": {},
     "output_type": "display_data"
    }
   ],
   "source": [
    "cm = confusion_matrix(Y_test, prediction, normalize = \"true\")\n",
    "cm_df = pd.DataFrame(cm,\n",
    "index = ['Negative','Positive'],\n",
    "columns = ['Negative','Positive'])\n",
    "#Plotting the confusion matrix\n",
    "plt.figure(figsize=(5,4))\n",
    "sns.heatmap(cm_df, annot=True, cmap=\"YlGnBu\")\n",
    "plt.title('Confusion Matrix')\n",
    "plt.ylabel('Actal Values')\n",
    "plt.xlabel('Predicted Values')\n",
    "plt.savefig('myCNN2')"
   ]
  },
  {
   "cell_type": "code",
   "execution_count": 16,
   "id": "4c43d3b0-3abd-422d-bc14-1cd974fd41fa",
   "metadata": {},
   "outputs": [
    {
     "name": "stdout",
     "output_type": "stream",
     "text": [
      "Recall: \n",
      "0.9571286141575275\n",
      "Specificity: \n",
      "0.9428284854563691\n",
      "Presicion: \n",
      "0.9428284854563691\n",
      "Fall Out: \n",
      "0.0571715145436309\n",
      "Accuracy: \n",
      "0.95\n",
      "Kappa: \n",
      "0.8999948997398867\n",
      "F1:\n",
      "0.949924734465299\n"
     ]
    }
   ],
   "source": [
    "FP = 0.057\n",
    "FN = 0.043\n",
    "TP = 0.96\n",
    "TN = 0.94\n",
    "\n",
    "# Sensitivity, hit rate, recall, or true positive rate\n",
    "TPR = TP/(TP+FN)\n",
    "print(\"Recall: \")\n",
    "print(TPR)\n",
    "\n",
    "# Specificity or true negative rate\n",
    "TNR = TN/(TN+FP)\n",
    "print(\"Specificity: \")\n",
    "print(TNR)\n",
    "\n",
    "# Precision or positive predictive value\n",
    "PPV = TP/(TP+FP)\n",
    "print(\"Presicion: \")\n",
    "print(TNR)\n",
    "\n",
    "# Negative predictive value\n",
    "NPV = TN/(TN+FN)\n",
    "\n",
    "# Fall out or false positive rate\n",
    "FPR = FP/(FP+TN)\n",
    "print(\"Fall Out: \")\n",
    "print(FPR)\n",
    "\n",
    "# False negative rate\n",
    "FNR = FN/(TP+FN)\n",
    "\n",
    "# False discovery rate\n",
    "FDR = FP/(TP+FP)\n",
    "\n",
    "Total = FP+FN+TP+TN\n",
    "\n",
    "# Overall accuracy\n",
    "ACC = (TP+TN)/Total\n",
    "print(\"Accuracy: \")\n",
    "print(ACC)\n",
    "\n",
    "# Random accuracy\n",
    "R_ACC = ((TN+FP)*(TN+FN)+(FN+TP)*(FP+TP))/(Total*Total)\n",
    "\n",
    "# Kappa\n",
    "KAPPA = (ACC-R_ACC)/(1-R_ACC)\n",
    "print(\"Kappa: \")\n",
    "print(KAPPA)\n",
    "\n",
    "F1 = 2 * (TNR * TPR) / (TNR + TPR)\n",
    "print(\"F1:\")\n",
    "print(F1)"
   ]
  },
  {
   "cell_type": "code",
   "execution_count": null,
   "id": "c6d37541-2d5c-407a-be4a-fa739db84388",
   "metadata": {},
   "outputs": [],
   "source": []
  }
 ],
 "metadata": {
  "kernelspec": {
   "display_name": "Python 3 (ipykernel)",
   "language": "python",
   "name": "python3"
  },
  "language_info": {
   "codemirror_mode": {
    "name": "ipython",
    "version": 3
   },
   "file_extension": ".py",
   "mimetype": "text/x-python",
   "name": "python",
   "nbconvert_exporter": "python",
   "pygments_lexer": "ipython3",
   "version": "3.9.13"
  }
 },
 "nbformat": 4,
 "nbformat_minor": 5
}
